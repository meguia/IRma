{
 "cells": [
  {
   "cell_type": "markdown",
   "id": "af301873",
   "metadata": {},
   "source": [
    "# Notebook demo de acousticfield\n",
    "\n",
    "Esta es una notebook demo del paquete **acousticfield** de ((LAPSo)), que se puede instalar desde\n",
    "\n",
    "[https://test.pypi.org/project/acousticfield/](https://test.pypi.org/project/acousticfield/)\n",
    "\n",
    "\n",
    "con el comando:\n",
    "\n",
    "`pip install -i https://test.pypi.org/simple/ acousticfield --no-deps`\n",
    "\n",
    "el codigo fuente esta en \n",
    "\n",
    "[https://github.com/meguia/acousticfield](https://github.com/meguia/acousticfield)\n",
    "\n",
    "Para instalar la ultima version (rolling release) de github descargar el wheel de https://github.com/meguia/acousticfield/blob/main/dist/acousticfield-0.0.4-py3-none-any.whl (reemplazar 0.0.5 por la ultima version) y luego hacer:\n",
    "\n",
    "`pip install --force-reinstall acousticfield-0.0.5.post1-py3-none-any.whl`\n"
   ]
  },
  {
   "cell_type": "markdown",
   "id": "353ee558",
   "metadata": {},
   "source": [
    "# Importacion de librerias\n",
    "Por ahora solo importamos sounddevice para chequear la configuracion de la interfaz de audio, y numpy porque lo que devuelve acousticfield en general son arrays numpy.\n",
    "\n",
    "Todo lo de **acousticfield** lo importamos explicitamente de los diferentes submodulos:\n",
    "\n",
    "- **generate** tiene funciones para generar sweeps y varios estimulos sencillos\n",
    "- **io** funciones basicas para reproducir y grabar simultaneamente usando sounddevice\n",
    "- **process** tiene funciones de DSP auxiliares, aca usamos de forma directa solo la que aplica el filtro inverso del sweep para extraer la RI\n",
    "- **room** tiene una funcion principal para extraer parametros acusticos (paracoustic) \n",
    "- **display** es el modulo de mas alto nivel que devuelve graficos o tablas de parametros acusticos y graficas y resultados de estadisticas de la RI, espectro, espectrorgama, etc.\n"
   ]
  },
  {
   "cell_type": "markdown",
   "id": "c4fc9810",
   "metadata": {},
   "source": []
  },
  {
   "cell_type": "code",
   "execution_count": 1,
   "id": "fb37896a",
   "metadata": {
    "ExecuteTime": {
     "end_time": "2021-10-01T03:22:46.561591Z",
     "start_time": "2021-10-01T03:22:45.820198Z"
    }
   },
   "outputs": [
    {
     "ename": "ModuleNotFoundError",
     "evalue": "No module named 'numpy'",
     "output_type": "error",
     "traceback": [
      "\u001b[0;31m---------------------------------------------------------------------------\u001b[0m",
      "\u001b[0;31mModuleNotFoundError\u001b[0m                       Traceback (most recent call last)",
      "Input \u001b[0;32mIn [1]\u001b[0m, in \u001b[0;36m<cell line: 1>\u001b[0;34m()\u001b[0m\n\u001b[0;32m----> 1\u001b[0m \u001b[38;5;28;01mimport\u001b[39;00m \u001b[38;5;21;01mnumpy\u001b[39;00m \u001b[38;5;28;01mas\u001b[39;00m \u001b[38;5;21;01mnp\u001b[39;00m\n\u001b[1;32m      2\u001b[0m \u001b[38;5;28;01mimport\u001b[39;00m \u001b[38;5;21;01msounddevice\u001b[39;00m \u001b[38;5;28;01mas\u001b[39;00m \u001b[38;5;21;01msd\u001b[39;00m       \n\u001b[1;32m      3\u001b[0m \u001b[38;5;28;01mfrom\u001b[39;00m \u001b[38;5;21;01macousticfield\u001b[39;00m\u001b[38;5;21;01m.\u001b[39;00m\u001b[38;5;21;01mgenerate\u001b[39;00m \u001b[38;5;28;01mimport\u001b[39;00m sweep, golay\n",
      "\u001b[0;31mModuleNotFoundError\u001b[0m: No module named 'numpy'"
     ]
    }
   ],
   "source": [
    "import numpy as np\n",
    "import sounddevice as sd       \n",
    "from acousticfield.generate import sweep, golay\n",
    "from acousticfield.io import play_rec, play\n",
    "from acousticfield.process import ir_extract\n",
    "from acousticfield.room import paracoustic\n",
    "from acousticfield.display import *"
   ]
  },
  {
   "cell_type": "markdown",
   "id": "e7c24429",
   "metadata": {},
   "source": [
    "# Ajuste de sounddevice\n",
    "Elegir la interfaz de entrada salida si es necesario con sd.default_device[devicein,deviceout] usando los numeros que devuelve query_devices()"
   ]
  },
  {
   "cell_type": "code",
   "execution_count": 3,
   "id": "11b374e2",
   "metadata": {
    "ExecuteTime": {
     "end_time": "2021-09-02T17:29:37.693418Z",
     "start_time": "2021-09-02T17:29:37.678458Z"
    }
   },
   "outputs": [
    {
     "data": {
      "text/plain": [
       "> 0 Built-in Microphone, Core Audio (2 in, 0 out)\n",
       "< 1 Built-in Output, Core Audio (0 in, 2 out)\n",
       "  2 iShowU Audio Capture, Core Audio (2 in, 2 out)"
      ]
     },
     "execution_count": 3,
     "metadata": {},
     "output_type": "execute_result"
    }
   ],
   "source": [
    "sd.query_devices()"
   ]
  },
  {
   "cell_type": "code",
   "execution_count": 4,
   "id": "7d3fa328",
   "metadata": {
    "ExecuteTime": {
     "end_time": "2021-10-01T03:23:06.421379Z",
     "start_time": "2021-10-01T03:23:06.415392Z"
    }
   },
   "outputs": [],
   "source": [
    "#sd.default.device = [2,2]\n",
    "fs = 96000"
   ]
  },
  {
   "cell_type": "markdown",
   "id": "6bcf641a",
   "metadata": {},
   "source": [
    "# Obtencion de la RI mediante Sweep Exponencial (tambien llamado logaritmico o LSS)\n",
    "El sweep se puede generar una sola vez. los parametros son T (duracion en segundos) fs (frecuencia de sampleo), fi, f2 (frecuencia de inicio y final del sweep en Hz), la cantidad de repeticiones Nrep y filename el nombre del archivo. Ademas del sweep almacena el flitro inverso el tipo de estimulo 'sweep' y otra metadata en un archivo del mismo nombre .npz"
   ]
  },
  {
   "cell_type": "code",
   "execution_count": 4,
   "id": "f6361a5b",
   "metadata": {
    "ExecuteTime": {
     "end_time": "2021-10-01T03:23:10.494178Z",
     "start_time": "2021-10-01T03:23:10.102221Z"
    }
   },
   "outputs": [
    {
     "name": "stdout",
     "output_type": "stream",
     "text": [
      "Sweep generated with 576000 samples.\n",
      "Total signal with 3 repetitions has a duration of 36.00 seconds\n"
     ]
    }
   ],
   "source": [
    "sweep1 = sweep(T=10.0,fs=fs,f1=30,f2=22000,Nrep=3,filename='sweep_x3_96kHz_10s_30_22k',post=2.0)"
   ]
  },
  {
   "cell_type": "markdown",
   "id": "83c122b9",
   "metadata": {},
   "source": [
    "Grabacion del sweep. Los dos primeros parametros son el sweep a usar (siempre sin el .wav) y el nombre par ael archivo de alamacenamiento. Por defecto reproduce mono en canal 0 y graba mono en canal 0. Si se graba en mas de un canal o se usa un loopback hay que especificar los canales de salida (chanout) y de entrada (chanin). Devuelve la señal como numpy array 2D de (nsamples,nchannels). "
   ]
  },
  {
   "cell_type": "code",
   "execution_count": 5,
   "id": "a6971074",
   "metadata": {
    "ExecuteTime": {
     "end_time": "2021-09-02T17:05:17.022669Z",
     "start_time": "2021-09-02T17:05:04.216994Z"
    }
   },
   "outputs": [
    {
     "name": "stdout",
     "output_type": "stream",
     "text": [
      "finished\n"
     ]
    }
   ],
   "source": [
    "# descomentar para grabar una nueva respuesta impulso\n",
    "rec_L1 = play_rec('sweep_x3_96kHz_10s_30_22k','rec_L1',chanout=[0,1],chanin=[0,1]) "
   ]
  },
  {
   "cell_type": "code",
   "execution_count": null,
   "id": "9fd8db3e",
   "metadata": {},
   "outputs": [],
   "source": [
    "# Esto esta unicamente para chequear que no haya habido clipeo (agregar una funcion)\n",
    "import matplotlib.pyplot as plt\n",
    "plt.plot(rec_L1[:,0]) #solo para chequear que no haya saturado"
   ]
  },
  {
   "cell_type": "markdown",
   "id": "f17648e3",
   "metadata": {},
   "source": [
    "## Extraccion de la respuesta impulso. \n",
    "Usamos `ir_extract` . \n",
    "El primer parametro puede ser el array o el nombre de archivo, el segundo es el filtro a usar (mismo nombre que el sweep) y el tercero es el nombre del archivo para almacenar la RI. Si uno de los canales se usa como loopback especificarlo en el parametro del mismo nombre. Si se pasa el array hay que especificar la frecuencia de sampleo (el default es 48 k). Devuelve un array numpy de (nsamples,nchannels) o (nsamples,nchannels-1) si se uso loopback. Almacena metadata en archivo con el mismo nombre de la ri .npz"
   ]
  },
  {
   "cell_type": "code",
   "execution_count": null,
   "id": "fc5e82cc",
   "metadata": {
    "ExecuteTime": {
     "end_time": "2021-10-01T03:27:42.337078Z",
     "start_time": "2021-10-01T03:27:42.127643Z"
    }
   },
   "outputs": [],
   "source": [
    "# se puede partir de esta celda para chequear la notebook con una grabacion ya realizada \n",
    "# (si esta rec_L1M1.wav y sweep_x3_96kHz_30_22k_inv.npz en el directorio)\n",
    "ri_L1 = ir_extract('rec_L1','sweep_x3_96kHz_10s_30_22k','ri_L1',loopback=1,fs=fs)"
   ]
  },
  {
   "cell_type": "markdown",
   "id": "e65b211b",
   "metadata": {},
   "source": [
    "# Obtencion de la RI mediante Secuencias complementarias de Golay\n",
    "Como metodo alternativo mas robusto frente a ruido podemos usar secuencias complementarias de Golay.\n",
    "Los unicos parametros son el nombre del archivo, el orden de la secuencia (18 da una duracion aproximada del par complementario de 20 segundos) y la cantidad de repeticiones (aca la gracia es hacer varias porque el ruido es mas tolerable)\n",
    "Tambien almacena las secuencias para invertir, el timpo de estimulo 'golay' y otra metadata en un archivo del mismo nombre .npz"
   ]
  },
  {
   "cell_type": "code",
   "execution_count": null,
   "id": "88ce6ace",
   "metadata": {
    "ExecuteTime": {
     "end_time": "2021-10-01T03:23:32.841019Z",
     "start_time": "2021-10-01T03:23:32.697577Z"
    }
   },
   "outputs": [],
   "source": [
    "golay('golay_x4_96k_N19',N=19, fs=fs, Nrep=8);"
   ]
  },
  {
   "cell_type": "code",
   "execution_count": null,
   "id": "ffdfd743",
   "metadata": {},
   "outputs": [],
   "source": [
    "rec_L1_golay = play_rec('golay_x4_96k_N19','rec_L1_golay',chanout=[0,1],chanin=[0,1]) "
   ]
  },
  {
   "cell_type": "code",
   "execution_count": null,
   "id": "a17ddbe8",
   "metadata": {
    "ExecuteTime": {
     "end_time": "2021-10-01T03:27:49.221967Z",
     "start_time": "2021-10-01T03:27:48.571647Z"
    }
   },
   "outputs": [],
   "source": [
    "ri_L1_golay = ir_extract('rec_L1_golay','golay_x4_96k_N19','ri_L1_golay',loopback=1,fs=fs)"
   ]
  },
  {
   "cell_type": "markdown",
   "id": "d80194e0",
   "metadata": {},
   "source": [
    "# Respuesta impulso\n",
    "Analisis de directo y reflexiones (ecos) y estadistica de la RI\n",
    "\n",
    "Para graficar la IR y el directo detectado usamos **ir_plot** (puede graficar multicanal).\n",
    "\n",
    "**echo_display** devuelve la lista de ecos en una tabla y en un grafico (atencion que por defecto hace una tabla y grafico por canal, si se quiere hacer de un canal en particular hay que pasarlo de forma explicita) El segundo parametro de echo_display es la cantidad de ecos a detectar nechoes (incluyendo el directo). Devuelve un array de dimensiones (nechoes,2,nchan) donde en la segunda dimension esta el tiempo y la intensidad de los ecos.\n",
    "\n",
    "**irstats_plot** calcula la kurtosis y la fraccion normalizada de samples fuera de la desviacion estandar (stdexcess). Cuando la kurtosis se hace cercana a cero (medida de Fisher) o stdexcess se acerca a 1 se produce el cambio a una estadistica Gaussiana en la RI (mixing time). Grafica ambos valores y una linea vertical donde se ubica el mixing time para cada criterio. Tambien devuelve una medida de la desviacion estandar en dB (stdbup) por encima de la std minima (correspondiente al ruido de fondo) y un criterio para decidir que la RI ya alcanzo ese nivel es cuando esta 1dB por encima (tnoise). Grafica tambien stdbup y una linea vertical en el tiempo en el que se alcanza el ruido de fondo. Devuelve un diccionario con keys 'kurtosis' 'stdexcess' 'stdbup' 'mixing' y 'tnoise' con una fila por cada canal (tambien hace un grafico or canal si no se especifica uno en particular). "
   ]
  },
  {
   "cell_type": "code",
   "execution_count": null,
   "id": "bc1710d4",
   "metadata": {
    "ExecuteTime": {
     "end_time": "2021-10-01T03:27:53.581258Z",
     "start_time": "2021-10-01T03:27:53.337364Z"
    },
    "scrolled": false
   },
   "outputs": [],
   "source": [
    "ir_plot(ri_L1,fs=fs)\n",
    "ir_plot(ri_L1_golay,fs=fs)\n",
    "play(ri_L1,chanout=[0,1],normalized=True,fs=fs)"
   ]
  },
  {
   "cell_type": "code",
   "execution_count": null,
   "id": "8f257565",
   "metadata": {
    "ExecuteTime": {
     "end_time": "2021-10-01T05:29:30.602132Z",
     "start_time": "2021-10-01T05:29:30.244580Z"
    }
   },
   "outputs": [],
   "source": [
    "echos = echo_display(ri_L1,7,fs=fs)"
   ]
  },
  {
   "cell_type": "code",
   "execution_count": null,
   "id": "85de7dab",
   "metadata": {
    "ExecuteTime": {
     "end_time": "2021-10-01T03:28:11.169952Z",
     "start_time": "2021-10-01T03:28:09.871546Z"
    }
   },
   "outputs": [],
   "source": [
    "pstat = irstat_plot(ri_L1, window=0.01, overlap=0.001, logscale=True, fs=fs)\n",
    "pstat = irstat_plot(ri_L1_golay, window=0.01, overlap=0.001, logscale=True, fs=fs)"
   ]
  },
  {
   "cell_type": "code",
   "execution_count": null,
   "id": "6c697aee",
   "metadata": {
    "ExecuteTime": {
     "end_time": "2021-10-01T03:28:27.001311Z",
     "start_time": "2021-10-01T03:28:26.638151Z"
    }
   },
   "outputs": [],
   "source": [
    "ac = acorr_plot(ri_L1,trange=0.05,fs=fs)\n",
    "ac = acorr_plot(ri_L1_golay,trange=0.05,fs=fs)"
   ]
  },
  {
   "cell_type": "markdown",
   "id": "1b58827c",
   "metadata": {},
   "source": [
    "# Parametros acusticos\n",
    "\n",
    "Calculo de los parametros acusticos usando paracoustic, el primer parametro es la RI (el array o el nombre de archivo), se puede especificarl el metodo para calcular el tiempo de reverberacion (rt30, rt20, rt15) y el banco de filtros a utilizar (el formato de nombre para el banco de filtros es fbank + frecuencia de sampleo + _ + numero de octavas + _ + numero de bandas por octavas. Por defecto el banco arranca en la octava de 62.5 para modificarlo se puede usar la funcion make_filterbank de process.\n",
    "\n",
    "**paracoustic** devuelve un diccionario con todos los parametros por bandas, y dos columnas adicionales para ponderacion A y Flat. \n",
    "\n",
    "**pars_print** imprime todos los parametros (tambien se le puede pasar una lista de keys).\n",
    "\n",
    "**pars_plot** hace graficos de los parametros que se le pasan como key.\n",
    "\n",
    "Los parametros que se calculan son\n",
    "- 'snr' relacion señal ruido en dB\n",
    "- 'rt20' (o 'rt30' o 'rt15) tiempo de reverberacion en segundos\n",
    "- 'edt' decaimiento temprano en segundos\n",
    "- 'c50' y 'c80' claridad en dB con dos criterios\n",
    "- 'ts' centro temporal en segundos\n",
    "- 'dr' relacion directo reverberante en dB\n",
    "\n",
    "Pero paracoustic tambien devuelve:\n",
    "- 'rvalue' coeficiente de regresion del ajuste del decaimiento (puede incorporarse a parsprint)\n",
    "- 'schr' integral de Schroeder para graficar el decaimiento\n",
    "- 'lfit' 'tfit' intersecciones con tiempo y nivel donde realiza el ajuste de decaimiento\n",
    "\n",
    "La funcion **parsdecay_plot** muestra los decaimientos por bandas en un multiplot.\n",
    "\n",
    "En todos los casos muestra los datos de un solo canal (por defecto el canal 0 pero se puede especificar con el parametro chan)"
   ]
  },
  {
   "cell_type": "code",
   "execution_count": null,
   "id": "abe0dd0c",
   "metadata": {
    "ExecuteTime": {
     "end_time": "2021-09-03T21:09:15.878378Z",
     "start_time": "2021-09-03T21:09:15.865385Z"
    }
   },
   "outputs": [],
   "source": [
    "#from acousticfield.process import make_filterbank\n",
    "make_filterbank(fmin=62.5,noct=9,bwoct=1,fs=96000,bankname='fbank96k_9_1',show=True)"
   ]
  },
  {
   "cell_type": "code",
   "execution_count": 25,
   "id": "a53a949f",
   "metadata": {},
   "outputs": [],
   "source": [
    "from scipy.io import wavfile\n",
    "fs, data = wavfile.read('ri_tanque_distancia_frente_4.wav')"
   ]
  },
  {
   "cell_type": "code",
   "execution_count": 22,
   "id": "cefaae27",
   "metadata": {},
   "outputs": [
    {
     "data": {
      "text/plain": [
       "96000"
      ]
     },
     "execution_count": 22,
     "metadata": {},
     "output_type": "execute_result"
    }
   ],
   "source": [
    "fs"
   ]
  },
  {
   "cell_type": "code",
   "execution_count": 26,
   "id": "98e5767b",
   "metadata": {
    "ExecuteTime": {
     "end_time": "2021-09-04T03:36:44.377281Z",
     "start_time": "2021-09-04T03:36:43.624296Z"
    }
   },
   "outputs": [
    {
     "name": "stderr",
     "output_type": "stream",
     "text": [
      "/Users/camilo/anaconda3/lib/python3.9/site-packages/acousticfield/room.py:194: VisibleDeprecationWarning: Creating an ndarray from ragged nested sequences (which is a list-or-tuple of lists-or-tuples-or ndarrays with different lengths or shapes) is deprecated. If you meant to do this, you must specify 'dtype=object' when creating the ndarray.\n",
      "  EREV = np.sum(np.square(revs),axis=1)\n"
     ]
    },
    {
     "ename": "AxisError",
     "evalue": "axis 1 is out of bounds for array of dimension 1",
     "output_type": "error",
     "traceback": [
      "\u001b[0;31m---------------------------------------------------------------------------\u001b[0m",
      "\u001b[0;31mAxisError\u001b[0m                                 Traceback (most recent call last)",
      "\u001b[0;32m/var/folders/mt/766xqn1n2971j_4wbk7h7cvr0000gn/T/ipykernel_38872/3996069282.py\u001b[0m in \u001b[0;36m<module>\u001b[0;34m\u001b[0m\n\u001b[0;32m----> 1\u001b[0;31m \u001b[0mpars\u001b[0m \u001b[0;34m=\u001b[0m \u001b[0mparacoustic\u001b[0m\u001b[0;34m(\u001b[0m\u001b[0;34m'ri_tanque_distancia_frente_4'\u001b[0m\u001b[0;34m,\u001b[0m \u001b[0mmethod\u001b[0m\u001b[0;34m=\u001b[0m\u001b[0;34m'rt20'\u001b[0m\u001b[0;34m,\u001b[0m\u001b[0mbankname\u001b[0m\u001b[0;34m=\u001b[0m\u001b[0;34m'fbank96k_9_1'\u001b[0m\u001b[0;34m)\u001b[0m\u001b[0;34m\u001b[0m\u001b[0;34m\u001b[0m\u001b[0m\n\u001b[0m",
      "\u001b[0;32m~/anaconda3/lib/python3.9/site-packages/acousticfield/room.py\u001b[0m in \u001b[0;36mparacoustic\u001b[0;34m(ir, method, bankname, tmax)\u001b[0m\n\u001b[1;32m    182\u001b[0m         \u001b[0mpars\u001b[0m\u001b[0;34m[\u001b[0m\u001b[0mmethod\u001b[0m\u001b[0;34m]\u001b[0m\u001b[0;34m[\u001b[0m\u001b[0mn\u001b[0m\u001b[0;34m]\u001b[0m\u001b[0;34m,\u001b[0m \u001b[0mpars\u001b[0m\u001b[0;34m[\u001b[0m\u001b[0;34m'tfit'\u001b[0m\u001b[0;34m]\u001b[0m\u001b[0;34m[\u001b[0m\u001b[0mn\u001b[0m\u001b[0;34m]\u001b[0m\u001b[0;34m,\u001b[0m \u001b[0mpars\u001b[0m\u001b[0;34m[\u001b[0m\u001b[0;34m'lfit'\u001b[0m\u001b[0;34m]\u001b[0m\u001b[0;34m[\u001b[0m\u001b[0mn\u001b[0m\u001b[0;34m]\u001b[0m\u001b[0;34m,\u001b[0m \u001b[0mpars\u001b[0m\u001b[0;34m[\u001b[0m\u001b[0;34m'schr'\u001b[0m\u001b[0;34m]\u001b[0m\u001b[0;34m[\u001b[0m\u001b[0mn\u001b[0m\u001b[0;34m]\u001b[0m\u001b[0;34m,\u001b[0m \u001b[0mpars\u001b[0m\u001b[0;34m[\u001b[0m\u001b[0;34m'snr'\u001b[0m\u001b[0;34m]\u001b[0m\u001b[0;34m[\u001b[0m\u001b[0mn\u001b[0m\u001b[0;34m]\u001b[0m\u001b[0;34m,\u001b[0m \u001b[0mpars\u001b[0m\u001b[0;34m[\u001b[0m\u001b[0;34m'rvalue'\u001b[0m\u001b[0;34m]\u001b[0m\u001b[0;34m[\u001b[0m\u001b[0mn\u001b[0m\u001b[0;34m]\u001b[0m \u001b[0;34m=\u001b[0m \u001b[0mrevtime\u001b[0m\u001b[0;34m(\u001b[0m\u001b[0mdata_filt\u001b[0m\u001b[0;34m,\u001b[0m\u001b[0mmethod\u001b[0m\u001b[0;34m,\u001b[0m\u001b[0mfs\u001b[0m\u001b[0;34m,\u001b[0m\u001b[0mtmax\u001b[0m\u001b[0;34m)\u001b[0m\u001b[0;34m\u001b[0m\u001b[0;34m\u001b[0m\u001b[0m\n\u001b[1;32m    183\u001b[0m         \u001b[0mpars\u001b[0m\u001b[0;34m[\u001b[0m\u001b[0;34m'c80'\u001b[0m\u001b[0;34m]\u001b[0m\u001b[0;34m[\u001b[0m\u001b[0mn\u001b[0m\u001b[0;34m]\u001b[0m\u001b[0;34m,\u001b[0m \u001b[0mpars\u001b[0m\u001b[0;34m[\u001b[0m\u001b[0;34m'c50'\u001b[0m\u001b[0;34m]\u001b[0m\u001b[0;34m[\u001b[0m\u001b[0mn\u001b[0m\u001b[0;34m]\u001b[0m\u001b[0;34m,\u001b[0m \u001b[0mpars\u001b[0m\u001b[0;34m[\u001b[0m\u001b[0;34m'ts'\u001b[0m\u001b[0;34m]\u001b[0m\u001b[0;34m[\u001b[0m\u001b[0mn\u001b[0m\u001b[0;34m]\u001b[0m \u001b[0;34m=\u001b[0m \u001b[0mclarity\u001b[0m\u001b[0;34m(\u001b[0m\u001b[0mdata_filt\u001b[0m\u001b[0;34m,\u001b[0m\u001b[0mfs\u001b[0m\u001b[0;34m,\u001b[0m\u001b[0mtmax\u001b[0m\u001b[0;34m)\u001b[0m\u001b[0;34m\u001b[0m\u001b[0;34m\u001b[0m\u001b[0m\n\u001b[0;32m--> 184\u001b[0;31m         \u001b[0mpars\u001b[0m\u001b[0;34m[\u001b[0m\u001b[0;34m'dr'\u001b[0m\u001b[0;34m]\u001b[0m\u001b[0;34m[\u001b[0m\u001b[0mn\u001b[0m\u001b[0;34m]\u001b[0m \u001b[0;34m=\u001b[0m \u001b[0mdirect_to_reverb\u001b[0m\u001b[0;34m(\u001b[0m\u001b[0mdata_filt\u001b[0m\u001b[0;34m,\u001b[0m\u001b[0mint\u001b[0m\u001b[0;34m(\u001b[0m\u001b[0mtnoise\u001b[0m\u001b[0;34m*\u001b[0m\u001b[0mfs\u001b[0m\u001b[0;34m)\u001b[0m\u001b[0;34m,\u001b[0m\u001b[0mfs\u001b[0m\u001b[0;34m)\u001b[0m\u001b[0;34m\u001b[0m\u001b[0;34m\u001b[0m\u001b[0m\n\u001b[0m\u001b[1;32m    185\u001b[0m     \u001b[0;32mreturn\u001b[0m \u001b[0mpars\u001b[0m\u001b[0;34m\u001b[0m\u001b[0;34m\u001b[0m\u001b[0m\n\u001b[1;32m    186\u001b[0m \u001b[0;34m\u001b[0m\u001b[0m\n",
      "\u001b[0;32m~/anaconda3/lib/python3.9/site-packages/acousticfield/room.py\u001b[0m in \u001b[0;36mdirect_to_reverb\u001b[0;34m(data, nmax, fs)\u001b[0m\n\u001b[1;32m    192\u001b[0m     \u001b[0mrevs\u001b[0m \u001b[0;34m=\u001b[0m \u001b[0;34m[\u001b[0m\u001b[0mdata\u001b[0m\u001b[0;34m[\u001b[0m\u001b[0mndir\u001b[0m\u001b[0;34m[\u001b[0m\u001b[0;36m1\u001b[0m\u001b[0;34m,\u001b[0m\u001b[0mn\u001b[0m\u001b[0;34m]\u001b[0m\u001b[0;34m:\u001b[0m\u001b[0mnmax\u001b[0m\u001b[0;34m,\u001b[0m\u001b[0mn\u001b[0m\u001b[0;34m]\u001b[0m \u001b[0;32mfor\u001b[0m \u001b[0mn\u001b[0m \u001b[0;32min\u001b[0m \u001b[0mrange\u001b[0m\u001b[0;34m(\u001b[0m\u001b[0mnchan\u001b[0m\u001b[0;34m)\u001b[0m\u001b[0;34m]\u001b[0m\u001b[0;34m\u001b[0m\u001b[0;34m\u001b[0m\u001b[0m\n\u001b[1;32m    193\u001b[0m     \u001b[0mEDIR\u001b[0m \u001b[0;34m=\u001b[0m \u001b[0mnp\u001b[0m\u001b[0;34m.\u001b[0m\u001b[0msum\u001b[0m\u001b[0;34m(\u001b[0m\u001b[0mnp\u001b[0m\u001b[0;34m.\u001b[0m\u001b[0msquare\u001b[0m\u001b[0;34m(\u001b[0m\u001b[0mdirs\u001b[0m\u001b[0;34m)\u001b[0m\u001b[0;34m,\u001b[0m\u001b[0maxis\u001b[0m\u001b[0;34m=\u001b[0m\u001b[0;36m1\u001b[0m\u001b[0;34m)\u001b[0m\u001b[0;34m\u001b[0m\u001b[0;34m\u001b[0m\u001b[0m\n\u001b[0;32m--> 194\u001b[0;31m     \u001b[0mEREV\u001b[0m \u001b[0;34m=\u001b[0m \u001b[0mnp\u001b[0m\u001b[0;34m.\u001b[0m\u001b[0msum\u001b[0m\u001b[0;34m(\u001b[0m\u001b[0mnp\u001b[0m\u001b[0;34m.\u001b[0m\u001b[0msquare\u001b[0m\u001b[0;34m(\u001b[0m\u001b[0mrevs\u001b[0m\u001b[0;34m)\u001b[0m\u001b[0;34m,\u001b[0m\u001b[0maxis\u001b[0m\u001b[0;34m=\u001b[0m\u001b[0;36m1\u001b[0m\u001b[0;34m)\u001b[0m\u001b[0;34m\u001b[0m\u001b[0;34m\u001b[0m\u001b[0m\n\u001b[0m\u001b[1;32m    195\u001b[0m     \u001b[0;32mreturn\u001b[0m  \u001b[0;36m10.0\u001b[0m\u001b[0;34m*\u001b[0m\u001b[0mnp\u001b[0m\u001b[0;34m.\u001b[0m\u001b[0mlog10\u001b[0m\u001b[0;34m(\u001b[0m\u001b[0mEDIR\u001b[0m\u001b[0;34m/\u001b[0m\u001b[0mEREV\u001b[0m\u001b[0;34m)\u001b[0m\u001b[0;34m\u001b[0m\u001b[0;34m\u001b[0m\u001b[0m\n\u001b[1;32m    196\u001b[0m \u001b[0;34m\u001b[0m\u001b[0m\n",
      "\u001b[0;32m<__array_function__ internals>\u001b[0m in \u001b[0;36msum\u001b[0;34m(*args, **kwargs)\u001b[0m\n",
      "\u001b[0;32m~/anaconda3/lib/python3.9/site-packages/numpy/core/fromnumeric.py\u001b[0m in \u001b[0;36msum\u001b[0;34m(a, axis, dtype, out, keepdims, initial, where)\u001b[0m\n\u001b[1;32m   2245\u001b[0m         \u001b[0;32mreturn\u001b[0m \u001b[0mres\u001b[0m\u001b[0;34m\u001b[0m\u001b[0;34m\u001b[0m\u001b[0m\n\u001b[1;32m   2246\u001b[0m \u001b[0;34m\u001b[0m\u001b[0m\n\u001b[0;32m-> 2247\u001b[0;31m     return _wrapreduction(a, np.add, 'sum', axis, dtype, out, keepdims=keepdims,\n\u001b[0m\u001b[1;32m   2248\u001b[0m                           initial=initial, where=where)\n\u001b[1;32m   2249\u001b[0m \u001b[0;34m\u001b[0m\u001b[0m\n",
      "\u001b[0;32m~/anaconda3/lib/python3.9/site-packages/numpy/core/fromnumeric.py\u001b[0m in \u001b[0;36m_wrapreduction\u001b[0;34m(obj, ufunc, method, axis, dtype, out, **kwargs)\u001b[0m\n\u001b[1;32m     85\u001b[0m                 \u001b[0;32mreturn\u001b[0m \u001b[0mreduction\u001b[0m\u001b[0;34m(\u001b[0m\u001b[0maxis\u001b[0m\u001b[0;34m=\u001b[0m\u001b[0maxis\u001b[0m\u001b[0;34m,\u001b[0m \u001b[0mout\u001b[0m\u001b[0;34m=\u001b[0m\u001b[0mout\u001b[0m\u001b[0;34m,\u001b[0m \u001b[0;34m**\u001b[0m\u001b[0mpasskwargs\u001b[0m\u001b[0;34m)\u001b[0m\u001b[0;34m\u001b[0m\u001b[0;34m\u001b[0m\u001b[0m\n\u001b[1;32m     86\u001b[0m \u001b[0;34m\u001b[0m\u001b[0m\n\u001b[0;32m---> 87\u001b[0;31m     \u001b[0;32mreturn\u001b[0m \u001b[0mufunc\u001b[0m\u001b[0;34m.\u001b[0m\u001b[0mreduce\u001b[0m\u001b[0;34m(\u001b[0m\u001b[0mobj\u001b[0m\u001b[0;34m,\u001b[0m \u001b[0maxis\u001b[0m\u001b[0;34m,\u001b[0m \u001b[0mdtype\u001b[0m\u001b[0;34m,\u001b[0m \u001b[0mout\u001b[0m\u001b[0;34m,\u001b[0m \u001b[0;34m**\u001b[0m\u001b[0mpasskwargs\u001b[0m\u001b[0;34m)\u001b[0m\u001b[0;34m\u001b[0m\u001b[0;34m\u001b[0m\u001b[0m\n\u001b[0m\u001b[1;32m     88\u001b[0m \u001b[0;34m\u001b[0m\u001b[0m\n\u001b[1;32m     89\u001b[0m \u001b[0;34m\u001b[0m\u001b[0m\n",
      "\u001b[0;31mAxisError\u001b[0m: axis 1 is out of bounds for array of dimension 1"
     ]
    }
   ],
   "source": [
    "pars = paracoustic('ri_tanque_distancia_frente_4', method='rt20',bankname='fbank96k_9_1')"
   ]
  },
  {
   "cell_type": "code",
   "execution_count": 19,
   "id": "a31ce21c",
   "metadata": {
    "ExecuteTime": {
     "end_time": "2021-09-04T03:36:50.352647Z",
     "start_time": "2021-09-04T03:36:50.344694Z"
    }
   },
   "outputs": [
    {
     "data": {
      "text/html": [
       "<table class='table-condensed'><tr><td><h4>Band</h4><td><td><h4>62</h4><td><td><h4>125</h4><td><td><h4>250</h4><td><td><h4>500</h4><td><td><h4>1000</h4><td><td><h4>2000</h4><td><td><h4>4000</h4><td><td><h4>8000</h4><td><td><h4>16000</h4><td><td><h4>A</h4><td><td><h4>Flat</h4><td></tr><tr><td><h4>SNR</h4><td><td>0.000<td><td>0.000<td><td>0.000<td><td>0.000<td><td>30.889<td><td>41.374<td><td>45.551<td><td>51.773<td><td>39.877<td><td>35.743<td><td>0.000<td></tr><tr><td><h4>RT20</h4><td><td>0.000<td><td>0.000<td><td>0.000<td><td>0.000<td><td>5.852<td><td>4.139<td><td>3.370<td><td>1.245<td><td>0.759<td><td>4.690<td><td>0.000<td></tr><tr><td><h4>RVALUE</h4><td><td>0.000<td><td>0.000<td><td>0.000<td><td>0.000<td><td>-1.000<td><td>-1.000<td><td>-0.994<td><td>-0.986<td><td>-0.990<td><td>-0.998<td><td>0.000<td></tr><tr><td><h4>EDT</h4><td><td>0.000<td><td>13.247<td><td>11.200<td><td>8.002<td><td>5.842<td><td>3.608<td><td>2.117<td><td>1.700<td><td>0.315<td><td>3.281<td><td>4.866<td></tr><tr><td><h4>C50</h4><td><td>-18.832<td><td>-11.694<td><td>-9.411<td><td>-8.667<td><td>-4.659<td><td>3.070<td><td>1.618<td><td>6.160<td><td>10.769<td><td>1.973<td><td>1.572<td></tr><tr><td><h4>C80</h4><td><td>-16.551<td><td>-10.770<td><td>-7.896<td><td>-7.659<td><td>-3.678<td><td>3.718<td><td>2.449<td><td>7.095<td><td>13.307<td><td>2.665<td><td>2.233<td></tr><tr><td><h4>TS</h4><td><td>876.239<td><td>738.032<td><td>611.997<td><td>544.628<td><td>344.956<td><td>122.512<td><td>108.381<td><td>40.906<td><td>16.881<td><td>135.649<td><td>184.370<td></tr><tr><td><h4>DR</h4><td><td>inf<td><td>inf<td><td>inf<td><td>inf<td><td>inf<td><td>inf<td><td>inf<td><td>inf<td><td>inf<td><td>inf<td><td>inf<td></tr></table>"
      ],
      "text/plain": [
       "<IPython.core.display.HTML object>"
      ]
     },
     "metadata": {},
     "output_type": "display_data"
    }
   ],
   "source": [
    "pars_print(pars,chan=1)"
   ]
  },
  {
   "cell_type": "code",
   "execution_count": null,
   "id": "a881fe77",
   "metadata": {
    "ExecuteTime": {
     "end_time": "2021-09-04T03:36:55.817957Z",
     "start_time": "2021-09-04T03:36:55.127872Z"
    },
    "scrolled": false
   },
   "outputs": [],
   "source": [
    "pars_plot(pars,['snr','rt30','c80','ts','dr'],chan=0)"
   ]
  },
  {
   "cell_type": "code",
   "execution_count": null,
   "id": "36b919a4",
   "metadata": {
    "ExecuteTime": {
     "end_time": "2021-09-04T03:37:01.379869Z",
     "start_time": "2021-09-04T03:37:00.352616Z"
    }
   },
   "outputs": [],
   "source": [
    "parsdecay_plot(pars,fs=fs)"
   ]
  },
  {
   "cell_type": "code",
   "execution_count": null,
   "id": "4bec888c",
   "metadata": {},
   "outputs": [],
   "source": [
    "# Con Golay no llega a un SNR de 20 (esta grabado a baja intensidad)\n",
    "pars_golay = paracoustic('ri_L1_golay', method='rt15',bankname='fbank96k_9_1')"
   ]
  },
  {
   "cell_type": "code",
   "execution_count": null,
   "id": "77cc7f04",
   "metadata": {},
   "outputs": [],
   "source": [
    "parsdecay_plot(pars_golay,fs=fs)"
   ]
  },
  {
   "cell_type": "markdown",
   "id": "541d8c16",
   "metadata": {
    "ExecuteTime": {
     "end_time": "2021-09-02T00:32:45.200221Z",
     "start_time": "2021-09-02T00:32:45.186258Z"
    }
   },
   "source": [
    "# Funcion Transferencia\n",
    "\n",
    "La funcion **spectrum_plot** grafica y devuelve el espectro (power spectral density) y la fft como amplitud y fase de una señal arbitraria (multicanal)\n",
    "\n",
    "Si pasamos la respuesta impulso como señal recibimos la funcion de transferencia. El primer parametro puede ser un array o un nombre de archivo. Si es array hay que especificar la frecuencia de sampleo. logscale se refiere a la escala de frecuencias (la magnitud esta en dB). fmax es la frecuencia maxima que muestra en el grafico pero calcula todo hasta Nyquist. Devuelve un diccionario con keys 'f' 's' 'amplitude' 'phase' correspondientes a la lista de frecuencias, y arrays 2D (un canal por fila) con el espectro de potencias, la amplitud y la fase de la fft respectivamente.\n",
    "bajo"
   ]
  },
  {
   "cell_type": "code",
   "execution_count": null,
   "id": "bfd4b63e",
   "metadata": {},
   "outputs": [],
   "source": [
    "sp = spectrum_plot(ri_L1, logscale=True, fmax=4000, fs=fs)"
   ]
  },
  {
   "cell_type": "markdown",
   "id": "1a873393",
   "metadata": {},
   "source": [
    "# Espectrograma\n",
    "\n",
    "Como en el caso anterior, **spectrogram_plot** grafica y devuelve el espectrograma (ahora de un solo canal que se puede especificar con el parametro chan). \n",
    "recibe como parametros ademas de la señal en primero lugar, el tamaño de ña ventana en samples 'window', el overlap de las ventanas en samples 'overlap' la frecuencia de sampleo y el rango en dB 'lrange'. 'normalize' = True normaliza la salida en amplitud.\n",
    "Atencion, por ahora necesita el array (no el nombre de archivo)"
   ]
  },
  {
   "cell_type": "code",
   "execution_count": null,
   "id": "d7125166",
   "metadata": {
    "ExecuteTime": {
     "end_time": "2021-09-04T03:37:17.065697Z",
     "start_time": "2021-09-04T03:37:14.336826Z"
    },
    "scrolled": false
   },
   "outputs": [],
   "source": [
    "spec = spectrogram_plot(ri_L1,4096,400,chan=0,normalized=True,fs=fs,lrange=100,fmax=22000)"
   ]
  }
 ],
 "metadata": {
  "interpreter": {
   "hash": "08f7deb3c6d6c6fdf60066df4758e83cc0b6ff245cfaeab1d2bc28ae495d854e"
  },
  "kernelspec": {
   "display_name": "Python 3 (ipykernel)",
   "language": "python",
   "name": "python3"
  },
  "language_info": {
   "codemirror_mode": {
    "name": "ipython",
    "version": 3
   },
   "file_extension": ".py",
   "mimetype": "text/x-python",
   "name": "python",
   "nbconvert_exporter": "python",
   "pygments_lexer": "ipython3",
   "version": "3.9.4"
  },
  "toc": {
   "base_numbering": 1,
   "nav_menu": {},
   "number_sections": true,
   "sideBar": true,
   "skip_h1_title": false,
   "title_cell": "Table of Contents",
   "title_sidebar": "Contents",
   "toc_cell": false,
   "toc_position": {
    "height": "calc(100% - 180px)",
    "left": "10px",
    "top": "150px",
    "width": "208.233px"
   },
   "toc_section_display": true,
   "toc_window_display": true
  },
  "varInspector": {
   "cols": {
    "lenName": 16,
    "lenType": 16,
    "lenVar": 40
   },
   "kernels_config": {
    "python": {
     "delete_cmd_postfix": "",
     "delete_cmd_prefix": "del ",
     "library": "var_list.py",
     "varRefreshCmd": "print(var_dic_list())"
    },
    "r": {
     "delete_cmd_postfix": ") ",
     "delete_cmd_prefix": "rm(",
     "library": "var_list.r",
     "varRefreshCmd": "cat(var_dic_list()) "
    }
   },
   "oldHeight": 193.649666,
   "position": {
    "height": "40px",
    "left": "762px",
    "right": "20px",
    "top": "-20px",
    "width": "548.867px"
   },
   "types_to_exclude": [
    "module",
    "function",
    "builtin_function_or_method",
    "instance",
    "_Feature"
   ],
   "varInspector_section_display": "none",
   "window_display": true
  }
 },
 "nbformat": 4,
 "nbformat_minor": 5
}
