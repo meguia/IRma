{
 "cells": [
  {
   "cell_type": "markdown",
   "id": "af301873",
   "metadata": {},
   "source": [
    "# Notebook demo de acousticfield\n",
    "\n",
    "Esta es una notebook demo del paquete **acousticfield** de ((LAPSo))\n",
    "\n",
    "## Requisitos\n",
    "\n",
    "Si se instalo Anconda con el paquete base solo es necesario instalar por unica vez el paquete sounddevice con el comando\n",
    "\n",
    "`%pip install sounddevice`\n",
    "\n",
    "NOTA: Para windows este paquete viene sin soporte de ASIO. Para instalar con soporte de ASIO descargar el paquet de \n",
    "[https://download.lfd.uci.edu/pythonlibs/archived/sounddevice-0.4.4-pp38-pypy38_pp73-win_amd64.whl](https://download.lfd.uci.edu/pythonlibs/archived/sounddevice-0.4.4-pp38-pypy38_pp73-win_amd64.whl) e instalarlo con \n",
    "\n",
    "`%pip install sounddevice-0.4.4-pp38-pypy38_pp73-win_amd64.whl`\n",
    "\n",
    "## Instalacion\n",
    "\n",
    "La libreria **acousticfield** se puede instalar desde [https://test.pypi.org/project/acousticfield/](https://test.pypi.org/project/acousticfield/)\n",
    "\n",
    "con el comando en una celda:\n",
    "\n",
    "`%pip install -i https://test.pypi.org/simple/ acousticfield --no-deps`\n",
    "\n",
    "el codigo fuente esta en \n",
    "\n",
    "[https://github.com/meguia/acousticfield](https://github.com/meguia/acousticfield)\n",
    "\n",
    "Para instalar la ultima version directamente de github ejecutar en una celda\n",
    "\n",
    "`%pip install  --force-reinstall \"git+https://github.com/meguia/acousticfield\"`\n"
   ]
  },
  {
   "cell_type": "code",
   "execution_count": null,
   "id": "2fe32902",
   "metadata": {},
   "outputs": [],
   "source": [
    "# ATENCION solo ejecutar la primera vez!\n",
    "#%pip install sounddevice\n",
    "#%pip install  --force-reinstall \"git+https://github.com/meguia/acousticfield\""
   ]
  },
  {
   "cell_type": "markdown",
   "id": "353ee558",
   "metadata": {},
   "source": [
    "# Importacion de librerias\n",
    "Por ahora solo importamos sounddevice para chequear la configuracion de la interfaz de audio, y numpy porque lo que devuelve acousticfield en general son arrays numpy.\n",
    "\n",
    "Todo lo de **acousticfield** lo importamos explicitamente de los diferentes submodulos:\n",
    "\n",
    "- **generate** tiene funciones para generar sweeps y varios estimulos sencillos\n",
    "- **io** funciones basicas para reproducir y grabar simultaneamente usando sounddevice\n",
    "- **process** tiene funciones de DSP auxiliares, aca usamos de forma directa solo la que aplica el filtro inverso del sweep para extraer la RI\n",
    "- **room** tiene una funcion principal para extraer parametros acusticos (paracoustic) \n",
    "- **display** es el modulo de mas alto nivel que devuelve graficos o tablas de parametros acusticos y graficas y resultados de estadisticas de la RI, espectro, espectrorgama, etc.\n"
   ]
  },
  {
   "cell_type": "code",
   "execution_count": null,
   "id": "fb37896a",
   "metadata": {
    "ExecuteTime": {
     "end_time": "2021-10-01T03:22:46.561591Z",
     "start_time": "2021-10-01T03:22:45.820198Z"
    }
   },
   "outputs": [],
   "source": [
    "import numpy as np\n",
    "import sounddevice as sd       \n",
    "from acousticfield.generate import sweep, golay\n",
    "from acousticfield.io import play_rec, play\n",
    "from acousticfield.process import ir_extract,make_filterbank\n",
    "from acousticfield.room import paracoustic\n",
    "from acousticfield.display import *"
   ]
  },
  {
   "cell_type": "markdown",
   "id": "e7c24429",
   "metadata": {},
   "source": [
    "# Ajuste de sounddevice\n",
    "Elegir la interfaz de entrada salida si es necesario con sd.default_device[devicein,deviceout] usando los numeros que devuelve query_devices()"
   ]
  },
  {
   "cell_type": "code",
   "execution_count": null,
   "id": "11b374e2",
   "metadata": {
    "ExecuteTime": {
     "end_time": "2021-09-02T17:29:37.693418Z",
     "start_time": "2021-09-02T17:29:37.678458Z"
    }
   },
   "outputs": [],
   "source": [
    "sd.query_devices()"
   ]
  },
  {
   "cell_type": "code",
   "execution_count": null,
   "id": "7d3fa328",
   "metadata": {
    "ExecuteTime": {
     "end_time": "2021-10-01T03:23:06.421379Z",
     "start_time": "2021-10-01T03:23:06.415392Z"
    }
   },
   "outputs": [],
   "source": [
    "sd.default.device = [0,1]\n",
    "fs = 48000"
   ]
  },
  {
   "cell_type": "markdown",
   "id": "6bcf641a",
   "metadata": {},
   "source": [
    "# Obtencion de la RI mediante Sweep Exponencial (tambien llamado logaritmico o LSS)\n",
    "El sweep se puede generar una sola vez. los parametros son T (duracion en segundos) fs (frecuencia de sampleo), fi, f2 (frecuencia de inicio y final del sweep en Hz), la cantidad de repeticiones Nrep y filename el nombre del archivo. Ademas del sweep almacena el flitro inverso el tipo de estimulo 'sweep' y otra metadata en un archivo del mismo nombre .npz"
   ]
  },
  {
   "cell_type": "code",
   "execution_count": null,
   "id": "f6361a5b",
   "metadata": {
    "ExecuteTime": {
     "end_time": "2021-10-01T03:23:10.494178Z",
     "start_time": "2021-10-01T03:23:10.102221Z"
    }
   },
   "outputs": [],
   "source": [
    "sweep1 = sweep(T=10.0,fs=fs,f1=30,f2=22000,Nrep=1,filename='sweep_48kHz_10s_30_22k',post=1.0)"
   ]
  },
  {
   "cell_type": "markdown",
   "id": "83c122b9",
   "metadata": {},
   "source": [
    "Grabacion del sweep. Los dos primeros parametros son el sweep a usar (siempre sin el .wav) y el nombre par ael archivo de alamacenamiento. Por defecto reproduce mono en canal 0 y graba mono en canal 0. Si se graba en mas de un canal o se usa un loopback hay que especificar los canales de salida (chanout) y de entrada (chanin). Devuelve la señal como numpy array 2D de (nsamples,nchannels). "
   ]
  },
  {
   "cell_type": "code",
   "execution_count": null,
   "id": "a6971074",
   "metadata": {
    "ExecuteTime": {
     "end_time": "2021-09-02T17:05:17.022669Z",
     "start_time": "2021-09-02T17:05:04.216994Z"
    }
   },
   "outputs": [],
   "source": [
    "# descomentar para grabar una nueva respuesta impulso\n",
    "rec_L1 = play_rec('sweep_48kHz_10s_30_22k','rec_L1',chanout=[0],chanin=[0]) "
   ]
  },
  {
   "cell_type": "code",
   "execution_count": null,
   "id": "9fd8db3e",
   "metadata": {},
   "outputs": [],
   "source": [
    "# Esto esta unicamente para chequear que no haya habido clipeo (agregar una funcion)\n",
    "import matplotlib.pyplot as plt\n",
    "plt.plot(rec_L1[:,0]) #solo para chequear que no haya saturado"
   ]
  },
  {
   "cell_type": "markdown",
   "id": "f17648e3",
   "metadata": {},
   "source": [
    "## Extraccion de la respuesta impulso. \n",
    "Usamos `ir_extract` . \n",
    "El primer parametro puede ser el array o el nombre de archivo, el segundo es el filtro a usar (mismo nombre que el sweep) y el tercero es el nombre del archivo para almacenar la RI. Si uno de los canales se usa como loopback especificarlo en el parametro del mismo nombre. Si se pasa el array hay que especificar la frecuencia de sampleo (el default es 48 k). Devuelve un array numpy de (nsamples,nchannels) o (nsamples,nchannels-1) si se uso loopback. Almacena metadata en archivo con el mismo nombre de la ri .npz"
   ]
  },
  {
   "cell_type": "code",
   "execution_count": null,
   "id": "fc5e82cc",
   "metadata": {
    "ExecuteTime": {
     "end_time": "2021-10-01T03:27:42.337078Z",
     "start_time": "2021-10-01T03:27:42.127643Z"
    }
   },
   "outputs": [],
   "source": [
    "# se puede partir de esta celda para chequear la notebook con una grabacion ya realizada \n",
    "# (si esta rec_L1.wav y sweep_48kHz_30_22k_inv.npz en el directorio)\n",
    "ri_L1 = ir_extract('rec_L1','sweep_48kHz_10s_30_22k','ri_L1',fs=fs)"
   ]
  },
  {
   "cell_type": "markdown",
   "id": "e65b211b",
   "metadata": {},
   "source": [
    "# Obtencion de la RI mediante Secuencias complementarias de Golay\n",
    "Como metodo alternativo mas robusto frente a ruido podemos usar secuencias complementarias de Golay.\n",
    "Los unicos parametros son el nombre del archivo, el orden de la secuencia (18 da una duracion aproximada del par complementario de 20 segundos) y la cantidad de repeticiones (aca la gracia es hacer varias porque el ruido es mas tolerable)\n",
    "Tambien almacena las secuencias para invertir, el timpo de estimulo 'golay' y otra metadata en un archivo del mismo nombre .npz"
   ]
  },
  {
   "cell_type": "code",
   "execution_count": null,
   "id": "88ce6ace",
   "metadata": {
    "ExecuteTime": {
     "end_time": "2021-10-01T03:23:32.841019Z",
     "start_time": "2021-10-01T03:23:32.697577Z"
    }
   },
   "outputs": [],
   "source": [
    "golay('golay_x4_48k_N19',N=19, fs=fs, Nrep=2);"
   ]
  },
  {
   "cell_type": "code",
   "execution_count": null,
   "id": "ffdfd743",
   "metadata": {},
   "outputs": [],
   "source": [
    "rec_L1_golay = play_rec('golay_x4_48k_N19','rec_L1_golay',chanout=[0],chanin=[0]) "
   ]
  },
  {
   "cell_type": "code",
   "execution_count": null,
   "id": "a17ddbe8",
   "metadata": {
    "ExecuteTime": {
     "end_time": "2021-10-01T03:27:49.221967Z",
     "start_time": "2021-10-01T03:27:48.571647Z"
    }
   },
   "outputs": [],
   "source": [
    "ri_L1_golay = ir_extract('rec_L1_golay','golay_x4_48k_N19','ri_L1_golay',fs=fs)"
   ]
  },
  {
   "cell_type": "markdown",
   "id": "d80194e0",
   "metadata": {},
   "source": [
    "# Respuesta impulso\n",
    "Analisis de directo y reflexiones (ecos) y estadistica de la RI\n",
    "\n",
    "Para graficar la IR y el directo detectado usamos **ir_plot** (puede graficar multicanal).\n",
    "\n",
    "**echo_display** devuelve la lista de ecos en una tabla y en un grafico (atencion que por defecto hace una tabla y grafico por canal, si se quiere hacer de un canal en particular hay que pasarlo de forma explicita) El segundo parametro de echo_display es la cantidad de ecos a detectar nechoes (incluyendo el directo). Devuelve un array de dimensiones (nechoes,2,nchan) donde en la segunda dimension esta el tiempo y la intensidad de los ecos.\n",
    "\n",
    "**irstats_plot** calcula la kurtosis y la fraccion normalizada de samples fuera de la desviacion estandar (stdexcess). Cuando la kurtosis se hace cercana a cero (medida de Fisher) o stdexcess se acerca a 1 se produce el cambio a una estadistica Gaussiana en la RI (mixing time). Grafica ambos valores y una linea vertical donde se ubica el mixing time para cada criterio. Tambien devuelve una medida de la desviacion estandar en dB (stdbup) por encima de la std minima (correspondiente al ruido de fondo) y un criterio para decidir que la RI ya alcanzo ese nivel es cuando esta 1dB por encima (tnoise). Grafica tambien stdbup y una linea vertical en el tiempo en el que se alcanza el ruido de fondo. Devuelve un diccionario con keys 'kurtosis' 'stdexcess' 'stdbup' 'mixing' y 'tnoise' con una fila por cada canal (tambien hace un grafico or canal si no se especifica uno en particular). "
   ]
  },
  {
   "cell_type": "code",
   "execution_count": null,
   "id": "bc1710d4",
   "metadata": {
    "ExecuteTime": {
     "end_time": "2021-10-01T03:27:53.581258Z",
     "start_time": "2021-10-01T03:27:53.337364Z"
    },
    "scrolled": false
   },
   "outputs": [],
   "source": [
    "ir_plot(ri_L1,fs=fs)\n",
    "ir_plot(ri_L1_golay,fs=fs)\n",
    "play(ri_L1,chanout=[0],normalized=True,fs=fs)"
   ]
  },
  {
   "cell_type": "code",
   "execution_count": null,
   "id": "8f257565",
   "metadata": {
    "ExecuteTime": {
     "end_time": "2021-10-01T05:29:30.602132Z",
     "start_time": "2021-10-01T05:29:30.244580Z"
    }
   },
   "outputs": [],
   "source": [
    "echos = echo_display(ri_L1,7,fs=fs)"
   ]
  },
  {
   "cell_type": "code",
   "execution_count": null,
   "id": "85de7dab",
   "metadata": {
    "ExecuteTime": {
     "end_time": "2021-10-01T03:28:11.169952Z",
     "start_time": "2021-10-01T03:28:09.871546Z"
    }
   },
   "outputs": [],
   "source": [
    "pstat = irstat_plot(ri_L1, window=0.01, overlap=0.001, logscale=True, fs=fs)\n",
    "pstat = irstat_plot(ri_L1_golay, window=0.01, overlap=0.001, logscale=True, fs=fs)"
   ]
  },
  {
   "cell_type": "code",
   "execution_count": null,
   "id": "6c697aee",
   "metadata": {
    "ExecuteTime": {
     "end_time": "2021-10-01T03:28:27.001311Z",
     "start_time": "2021-10-01T03:28:26.638151Z"
    }
   },
   "outputs": [],
   "source": [
    "ac = acorr_plot(ri_L1,trange=0.05,fs=fs)\n",
    "ac = acorr_plot(ri_L1_golay,trange=0.05,fs=fs)"
   ]
  },
  {
   "cell_type": "markdown",
   "id": "1b58827c",
   "metadata": {},
   "source": [
    "# Parametros acusticos\n",
    "\n",
    "Calculo de los parametros acusticos usando paracoustic, el primer parametro es la RI (el array o el nombre de archivo), se puede especificarl el metodo para calcular el tiempo de reverberacion (rt30, rt20, rt15) y el banco de filtros a utilizar (el formato de nombre para el banco de filtros es fbank + frecuencia de sampleo + _ + numero de octavas + _ + numero de bandas por octavas. Por defecto el banco arranca en la octava de 62.5 para modificarlo se puede usar la funcion make_filterbank de process.\n",
    "\n",
    "**paracoustic** devuelve un diccionario con todos los parametros por bandas, y dos columnas adicionales para ponderacion A y Flat. \n",
    "\n",
    "**pars_print** imprime todos los parametros (tambien se le puede pasar una lista de keys).\n",
    "\n",
    "**pars_plot** hace graficos de los parametros que se le pasan como key.\n",
    "\n",
    "Los parametros que se calculan son\n",
    "- 'snr' relacion señal ruido en dB\n",
    "- 'rt20' (o 'rt30' o 'rt15) tiempo de reverberacion en segundos\n",
    "- 'edt' decaimiento temprano en segundos\n",
    "- 'c50' y 'c80' claridad en dB con dos criterios\n",
    "- 'ts' centro temporal en segundos\n",
    "- 'dr' relacion directo reverberante en dB\n",
    "\n",
    "Pero paracoustic tambien devuelve:\n",
    "- 'rvalue' coeficiente de regresion del ajuste del decaimiento (puede incorporarse a parsprint)\n",
    "- 'schr' integral de Schroeder para graficar el decaimiento\n",
    "- 'lfit' 'tfit' intersecciones con tiempo y nivel donde realiza el ajuste de decaimiento\n",
    "\n",
    "La funcion **parsdecay_plot** muestra los decaimientos por bandas en un multiplot.\n",
    "\n",
    "En todos los casos muestra los datos de un solo canal (por defecto el canal 0 pero se puede especificar con el parametro chan)"
   ]
  },
  {
   "cell_type": "code",
   "execution_count": null,
   "id": "abe0dd0c",
   "metadata": {
    "ExecuteTime": {
     "end_time": "2021-09-03T21:09:15.878378Z",
     "start_time": "2021-09-03T21:09:15.865385Z"
    }
   },
   "outputs": [],
   "source": [
    "#from acousticfield.process import make_filterbank\n",
    "make_filterbank(fmin=62.5,noct=9,bwoct=1,fs=fs,bankname='fbank48k_9_1',show=True)"
   ]
  },
  {
   "cell_type": "code",
   "execution_count": null,
   "id": "98e5767b",
   "metadata": {
    "ExecuteTime": {
     "end_time": "2021-09-04T03:36:44.377281Z",
     "start_time": "2021-09-04T03:36:43.624296Z"
    }
   },
   "outputs": [],
   "source": [
    "pars = paracoustic(ri_L1, method='rt20',bankname='fbank48k_9_1')"
   ]
  },
  {
   "cell_type": "code",
   "execution_count": null,
   "id": "a31ce21c",
   "metadata": {
    "ExecuteTime": {
     "end_time": "2021-09-04T03:36:50.352647Z",
     "start_time": "2021-09-04T03:36:50.344694Z"
    }
   },
   "outputs": [],
   "source": [
    "pars_print(pars)"
   ]
  },
  {
   "cell_type": "code",
   "execution_count": null,
   "id": "a881fe77",
   "metadata": {
    "ExecuteTime": {
     "end_time": "2021-09-04T03:36:55.817957Z",
     "start_time": "2021-09-04T03:36:55.127872Z"
    },
    "scrolled": false
   },
   "outputs": [],
   "source": [
    "pars_plot(pars,['snr','rt30','c80','ts','dr'],chan=0)"
   ]
  },
  {
   "cell_type": "code",
   "execution_count": null,
   "id": "36b919a4",
   "metadata": {
    "ExecuteTime": {
     "end_time": "2021-09-04T03:37:01.379869Z",
     "start_time": "2021-09-04T03:37:00.352616Z"
    }
   },
   "outputs": [],
   "source": [
    "parsdecay_plot(pars,fs=fs)"
   ]
  },
  {
   "cell_type": "code",
   "execution_count": null,
   "id": "4bec888c",
   "metadata": {},
   "outputs": [],
   "source": [
    "# Con Golay no llega a un SNR de 20 (esta grabado a baja intensidad)\n",
    "pars_golay = paracoustic('ri_L1_golay', method='rt15',bankname='fbank48k_9_1')"
   ]
  },
  {
   "cell_type": "code",
   "execution_count": null,
   "id": "77cc7f04",
   "metadata": {},
   "outputs": [],
   "source": [
    "parsdecay_plot(pars_golay,fs=fs)"
   ]
  },
  {
   "cell_type": "markdown",
   "id": "541d8c16",
   "metadata": {
    "ExecuteTime": {
     "end_time": "2021-09-02T00:32:45.200221Z",
     "start_time": "2021-09-02T00:32:45.186258Z"
    }
   },
   "source": [
    "# Funcion Transferencia\n",
    "\n",
    "La funcion **spectrum_plot** grafica y devuelve el espectro (power spectral density) y la fft como amplitud y fase de una señal arbitraria (multicanal)\n",
    "\n",
    "Si pasamos la respuesta impulso como señal recibimos la funcion de transferencia. El primer parametro puede ser un array o un nombre de archivo. Si es array hay que especificar la frecuencia de sampleo. logscale se refiere a la escala de frecuencias (la magnitud esta en dB). fmax es la frecuencia maxima que muestra en el grafico pero calcula todo hasta Nyquist. Devuelve un diccionario con keys 'f' 's' 'amplitude' 'phase' correspondientes a la lista de frecuencias, y arrays 2D (un canal por fila) con el espectro de potencias, la amplitud y la fase de la fft respectivamente.\n",
    "bajo"
   ]
  },
  {
   "cell_type": "code",
   "execution_count": null,
   "id": "bfd4b63e",
   "metadata": {},
   "outputs": [],
   "source": [
    "sp = spectrum_plot(ri_L1, logscale=True, fmax=4000, fs=fs)"
   ]
  },
  {
   "cell_type": "markdown",
   "id": "1a873393",
   "metadata": {},
   "source": [
    "# Espectrograma\n",
    "\n",
    "Como en el caso anterior, **spectrogram_plot** grafica y devuelve el espectrograma (ahora de un solo canal que se puede especificar con el parametro chan). \n",
    "recibe como parametros ademas de la señal en primero lugar, el tamaño de ña ventana en samples 'window', el overlap de las ventanas en samples 'overlap' la frecuencia de sampleo y el rango en dB 'lrange'. 'normalize' = True normaliza la salida en amplitud.\n",
    "Atencion, por ahora necesita el array (no el nombre de archivo)"
   ]
  },
  {
   "cell_type": "code",
   "execution_count": null,
   "id": "d7125166",
   "metadata": {
    "ExecuteTime": {
     "end_time": "2021-09-04T03:37:17.065697Z",
     "start_time": "2021-09-04T03:37:14.336826Z"
    },
    "scrolled": false
   },
   "outputs": [],
   "source": [
    "spec = spectrogram_plot(ri_L1,4096,400,chan=0,normalized=True,fs=fs,lrange=100,fmax=22000)"
   ]
  }
 ],
 "metadata": {
  "kernelspec": {
   "display_name": "Python 3 (ipykernel)",
   "language": "python",
   "name": "python3"
  },
  "language_info": {
   "codemirror_mode": {
    "name": "ipython",
    "version": 3
   },
   "file_extension": ".py",
   "mimetype": "text/x-python",
   "name": "python",
   "nbconvert_exporter": "python",
   "pygments_lexer": "ipython3",
   "version": "3.9.7"
  },
  "toc": {
   "base_numbering": 1,
   "nav_menu": {},
   "number_sections": true,
   "sideBar": true,
   "skip_h1_title": false,
   "title_cell": "Table of Contents",
   "title_sidebar": "Contents",
   "toc_cell": false,
   "toc_position": {
    "height": "calc(100% - 180px)",
    "left": "10px",
    "top": "150px",
    "width": "208.233px"
   },
   "toc_section_display": true,
   "toc_window_display": true
  },
  "varInspector": {
   "cols": {
    "lenName": 16,
    "lenType": 16,
    "lenVar": 40
   },
   "kernels_config": {
    "python": {
     "delete_cmd_postfix": "",
     "delete_cmd_prefix": "del ",
     "library": "var_list.py",
     "varRefreshCmd": "print(var_dic_list())"
    },
    "r": {
     "delete_cmd_postfix": ") ",
     "delete_cmd_prefix": "rm(",
     "library": "var_list.r",
     "varRefreshCmd": "cat(var_dic_list()) "
    }
   },
   "oldHeight": 193.649666,
   "position": {
    "height": "40px",
    "left": "762px",
    "right": "20px",
    "top": "-20px",
    "width": "548.867px"
   },
   "types_to_exclude": [
    "module",
    "function",
    "builtin_function_or_method",
    "instance",
    "_Feature"
   ],
   "varInspector_section_display": "none",
   "window_display": true
  }
 },
 "nbformat": 4,
 "nbformat_minor": 5
}
