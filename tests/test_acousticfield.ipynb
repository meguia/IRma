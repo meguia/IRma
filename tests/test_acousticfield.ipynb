{
 "cells": [
  {
   "cell_type": "code",
   "execution_count": 10,
   "id": "cf8e78e5",
   "metadata": {
    "ExecuteTime": {
     "end_time": "2021-09-01T03:50:36.117740Z",
     "start_time": "2021-09-01T03:50:36.104778Z"
    }
   },
   "outputs": [],
   "source": [
    "import numpy as np             \n",
    "import sounddevice as sd        #importamos sounddevice paquete para la reproduccion y grabacion de audio \n",
    "from scipy.io import wavfile    #modulo para lecto-escritura de archivos .wav\n",
    "import matplotlib.pyplot as plt\n",
    "import IPython"
   ]
  },
  {
   "cell_type": "code",
   "execution_count": 3,
   "id": "e9053d5e",
   "metadata": {
    "ExecuteTime": {
     "end_time": "2021-09-01T03:48:55.652277Z",
     "start_time": "2021-09-01T03:48:55.634333Z"
    }
   },
   "outputs": [],
   "source": [
    "from acousticfield.generate import sweep, puretone, whitenoise, pinknoise\n",
    "from acousticfield.io import play_rec\n",
    "from acousticfield.process import ir_extract"
   ]
  },
  {
   "cell_type": "code",
   "execution_count": 4,
   "id": "1e25a6a1",
   "metadata": {
    "ExecuteTime": {
     "end_time": "2021-09-01T03:48:58.556306Z",
     "start_time": "2021-09-01T03:48:58.537354Z"
    }
   },
   "outputs": [
    {
     "data": {
      "text/plain": [
       "   0 Microsoft Sound Mapper - Input, MME (2 in, 0 out)\n",
       ">  1 Microphone (Realtek(R) Audio), MME (2 in, 0 out)\n",
       "   2 Microphone (Logitech BRIO), MME (2 in, 0 out)\n",
       "   3 Microsoft Sound Mapper - Output, MME (0 in, 2 out)\n",
       "<  4 Speakers (Realtek(R) Audio), MME (0 in, 8 out)\n",
       "   5 S23C350 (NVIDIA High Definition, MME (0 in, 2 out)\n",
       "   6 Nx Headphones (Waves Virtual Au, MME (0 in, 8 out)\n",
       "   7 Realtek Digital Output (Realtek, MME (0 in, 2 out)\n",
       "   8 Primary Sound Capture Driver, Windows DirectSound (2 in, 0 out)\n",
       "   9 Microphone (Realtek(R) Audio), Windows DirectSound (2 in, 0 out)\n",
       "  10 Microphone (Logitech BRIO), Windows DirectSound (2 in, 0 out)\n",
       "  11 Primary Sound Driver, Windows DirectSound (0 in, 2 out)\n",
       "  12 Speakers (Realtek(R) Audio), Windows DirectSound (0 in, 8 out)\n",
       "  13 S23C350 (NVIDIA High Definition Audio), Windows DirectSound (0 in, 2 out)\n",
       "  14 Nx Headphones (Waves Virtual Audio Device), Windows DirectSound (0 in, 8 out)\n",
       "  15 Realtek Digital Output (Realtek(R) Audio), Windows DirectSound (0 in, 2 out)\n",
       "  16 ASIO4ALL v2, ASIO (2 in, 8 out)\n",
       "  17 Realtek ASIO, ASIO (2 in, 2 out)\n",
       "  18 S23C350 (NVIDIA High Definition Audio), Windows WASAPI (0 in, 2 out)\n",
       "  19 Nx Headphones (Waves Virtual Audio Device), Windows WASAPI (0 in, 8 out)\n",
       "  20 Speakers (Realtek(R) Audio), Windows WASAPI (0 in, 2 out)\n",
       "  21 Realtek Digital Output (Realtek(R) Audio), Windows WASAPI (0 in, 2 out)\n",
       "  22 Microphone (Logitech BRIO), Windows WASAPI (2 in, 0 out)\n",
       "  23 Microphone (Realtek(R) Audio), Windows WASAPI (2 in, 0 out)\n",
       "  24 Speakers (Realtek HD Audio output), Windows WDM-KS (0 in, 8 out)\n",
       "  25 Stereo Mix (Realtek HD Audio Stereo input), Windows WDM-KS (2 in, 0 out)\n",
       "  26 Line In (Realtek HD Audio Line input), Windows WDM-KS (2 in, 0 out)\n",
       "  27 Microphone (Realtek HD Audio Mic input), Windows WDM-KS (2 in, 0 out)\n",
       "  28 SPDIF Out (Realtek HDA SPDIF Out), Windows WDM-KS (0 in, 2 out)\n",
       "  29 Headphones (Waves Virtual Speaker), Windows WDM-KS (0 in, 8 out)\n",
       "  30 Output (NVIDIA High Definition Audio), Windows WDM-KS (0 in, 2 out)\n",
       "  31 Microphone (Logitech BRIO), Windows WDM-KS (2 in, 0 out)"
      ]
     },
     "execution_count": 4,
     "metadata": {},
     "output_type": "execute_result"
    }
   ],
   "source": [
    "sd.query_devices()"
   ]
  },
  {
   "cell_type": "code",
   "execution_count": 5,
   "id": "0ece3a5b",
   "metadata": {
    "ExecuteTime": {
     "end_time": "2021-09-01T03:49:03.443996Z",
     "start_time": "2021-09-01T03:49:03.440980Z"
    }
   },
   "outputs": [],
   "source": [
    "sd.default.device = [2,4]"
   ]
  },
  {
   "cell_type": "code",
   "execution_count": 6,
   "id": "25d5c467",
   "metadata": {
    "ExecuteTime": {
     "end_time": "2021-09-01T03:49:06.256339Z",
     "start_time": "2021-09-01T03:49:05.849386Z"
    }
   },
   "outputs": [],
   "source": [
    "sweep1 = sweep(T=10.0,fs=48000,f1=30,f2=22000,filename='sweep10s_30_22k')"
   ]
  },
  {
   "cell_type": "code",
   "execution_count": null,
   "id": "0924afff",
   "metadata": {
    "ExecuteTime": {
     "end_time": "2021-08-31T23:25:43.603702Z",
     "start_time": "2021-08-31T23:25:31.471842Z"
    }
   },
   "outputs": [],
   "source": [
    "rec_1 = play_rec('sweep10s_30_22k','rec_L1D1M1') "
   ]
  },
  {
   "cell_type": "code",
   "execution_count": null,
   "id": "51a13973",
   "metadata": {
    "ExecuteTime": {
     "end_time": "2021-08-31T23:26:35.360185Z",
     "start_time": "2021-08-31T23:26:35.304307Z"
    }
   },
   "outputs": [],
   "source": [
    "ri_1 = ir_extract(rec_1,'sweep10s_30_22k','ri_1')"
   ]
  },
  {
   "cell_type": "code",
   "execution_count": 55,
   "id": "51703343",
   "metadata": {
    "ExecuteTime": {
     "end_time": "2021-09-01T04:35:33.570219Z",
     "start_time": "2021-09-01T04:35:33.557226Z"
    }
   },
   "outputs": [
    {
     "data": {
      "text/plain": [
       "(48, 1)"
      ]
     },
     "execution_count": 55,
     "metadata": {},
     "output_type": "execute_result"
    }
   ],
   "source": [
    "s = whitenoise(0.001,nchannels=1)\n",
    "#s = pinknoise(1)\n",
    "s.shape"
   ]
  },
  {
   "cell_type": "code",
   "execution_count": 46,
   "id": "4c75b0db",
   "metadata": {
    "ExecuteTime": {
     "end_time": "2021-09-01T04:28:16.417075Z",
     "start_time": "2021-09-01T04:28:16.397104Z"
    }
   },
   "outputs": [
    {
     "ename": "ValueError",
     "evalue": "non-broadcastable output operand with shape (10,1) doesn't match the broadcast shape (10,10)",
     "output_type": "error",
     "traceback": [
      "\u001b[1;31m---------------------------------------------------------------------------\u001b[0m",
      "\u001b[1;31mValueError\u001b[0m                                Traceback (most recent call last)",
      "\u001b[1;32m<ipython-input-46-0693151662e3>\u001b[0m in \u001b[0;36m<module>\u001b[1;34m\u001b[0m\n\u001b[1;32m----> 1\u001b[1;33m \u001b[0ms\u001b[0m\u001b[1;33m[\u001b[0m\u001b[1;33m:\u001b[0m\u001b[1;36m10\u001b[0m\u001b[1;33m]\u001b[0m \u001b[1;33m*=\u001b[0m \u001b[0ma\u001b[0m\u001b[1;33m.\u001b[0m\u001b[0mT\u001b[0m\u001b[1;33m\u001b[0m\u001b[1;33m\u001b[0m\u001b[0m\n\u001b[0m",
      "\u001b[1;31mValueError\u001b[0m: non-broadcastable output operand with shape (10,1) doesn't match the broadcast shape (10,10)"
     ]
    }
   ],
   "source": [
    "s[:10] *= a.T"
   ]
  },
  {
   "cell_type": "code",
   "execution_count": 38,
   "id": "b5ebbe66",
   "metadata": {
    "ExecuteTime": {
     "end_time": "2021-09-01T04:27:04.287788Z",
     "start_time": "2021-09-01T04:27:04.276788Z"
    }
   },
   "outputs": [
    {
     "data": {
      "text/plain": [
       "array([-0.        , -0.00118166, -0.00298846, ...,  0.63987546,\n",
       "        0.79300065,  0.80230387])"
      ]
     },
     "execution_count": 38,
     "metadata": {},
     "output_type": "execute_result"
    }
   ],
   "source": [
    "s"
   ]
  },
  {
   "cell_type": "code",
   "execution_count": 35,
   "id": "9caa2b64",
   "metadata": {
    "ExecuteTime": {
     "end_time": "2021-09-01T04:26:40.928629Z",
     "start_time": "2021-09-01T04:26:40.845839Z"
    }
   },
   "outputs": [
    {
     "data": {
      "text/plain": [
       "[<matplotlib.lines.Line2D at 0x1d58ca362e0>]"
      ]
     },
     "execution_count": 35,
     "metadata": {},
     "output_type": "execute_result"
    },
    {
     "data": {
      "image/png": "[encoded data removed]",
      "text/plain": [
       "<Figure size 432x288 with 1 Axes>"
      ]
     },
     "metadata": {
      "needs_background": "light"
     },
     "output_type": "display_data"
    }
   ],
   "source": [
    "a = 0.5-0.5*np.cos(np.linspace(0,np.pi,10))\n",
    "plt.plot(a)"
   ]
  },
  {
   "cell_type": "code",
   "execution_count": 54,
   "id": "33b0b8ff",
   "metadata": {
    "ExecuteTime": {
     "end_time": "2021-09-01T04:35:24.307605Z",
     "start_time": "2021-09-01T04:35:24.292614Z"
    }
   },
   "outputs": [],
   "source": [
    "def whitenoise(T, flow=None, fhigh=None, fslow=None, fshigh=None, nchannels=1, fs=48000):\n",
    "    \"\"\"\n",
    "    Genera ruido blanco de duracion T limitado en banda entre flow y fhigh (fslow y fshigh dan las pendientes de\n",
    "    la sigmoidea del limite de banda) puede generar nchannels canales\n",
    "    \"\"\"\n",
    "    nsamples = int(fs*T)\n",
    "    freqs = np.fft.rfftfreq(nsamples, 1/fs)\n",
    "    freqs[0] = 1/nsamples\n",
    "    fmax = freqs[-1]\n",
    "    if flow is not None:\n",
    "        if fslow is None:\n",
    "            fslow=flow\n",
    "        s1 = sigmoid(freqs/fmax,flow/fmax,fslow/fmax)\n",
    "    else:\n",
    "        s1 = 1\n",
    "    if fhigh is not None:\n",
    "        if fshigh is None:\n",
    "            fshigh=fshigh/4.0\n",
    "        s2 = sigmoid(freqs/fmax,fhigh/fmax,-fshigh/fmax)\n",
    "    else:\n",
    "        s2 = 1\n",
    "    real = s1*s2*np.random.randn(nchannels, freqs.shape[0])\n",
    "    imag = s1*s2*np.random.randn(nchannels, freqs.shape[0])\n",
    "    if not nsamples & 1:\n",
    "        imag[-1] = 0.\n",
    "    wnoise = np.array(np.fft.irfft(real + 1j*imag),ndmin=2, dtype='float64').T\n",
    "    wnoise /= np.abs(wnoise).max(axis=0)\n",
    "    return wnoise"
   ]
  },
  {
   "cell_type": "code",
   "execution_count": 67,
   "id": "2002fb10",
   "metadata": {
    "ExecuteTime": {
     "end_time": "2021-09-01T04:38:15.402675Z",
     "start_time": "2021-09-01T04:38:15.396691Z"
    }
   },
   "outputs": [
    {
     "data": {
      "text/plain": [
       "(48, 1)"
      ]
     },
     "execution_count": 67,
     "metadata": {},
     "output_type": "execute_result"
    }
   ],
   "source": [
    "a = np.ones_like(s)\n",
    "a.shape"
   ]
  },
  {
   "cell_type": "code",
   "execution_count": 80,
   "id": "3ddcd7af",
   "metadata": {
    "ExecuteTime": {
     "end_time": "2021-09-01T04:46:04.605749Z",
     "start_time": "2021-09-01T04:46:04.515928Z"
    }
   },
   "outputs": [
    {
     "data": {
      "text/plain": [
       "[<matplotlib.lines.Line2D at 0x1d58c3e7640>]"
      ]
     },
     "execution_count": 80,
     "metadata": {},
     "output_type": "execute_result"
    },
    {
     "data": {
      "image/png": "[encoded data removed]",
      "text/plain": [
       "<Figure size 432x288 with 1 Axes>"
      ]
     },
     "metadata": {
      "needs_background": "light"
     },
     "output_type": "display_data"
    }
   ],
   "source": [
    "a = 0.5+0.5*np.cos(np.linspace(0,np.pi,10))\n",
    "plt.plot(a)"
   ]
  },
  {
   "cell_type": "code",
   "execution_count": 74,
   "id": "da33cc66",
   "metadata": {
    "ExecuteTime": {
     "end_time": "2021-09-01T04:39:16.115083Z",
     "start_time": "2021-09-01T04:39:16.028315Z"
    }
   },
   "outputs": [
    {
     "data": {
      "text/plain": [
       "[<matplotlib.lines.Line2D at 0x1d58c29c250>]"
      ]
     },
     "execution_count": 74,
     "metadata": {},
     "output_type": "execute_result"
    },
    {
     "data": {
      "image/png": "[encoded data removed]",
      "text/plain": [
       "<Figure size 432x288 with 1 Axes>"
      ]
     },
     "metadata": {
      "needs_background": "light"
     },
     "output_type": "display_data"
    }
   ],
   "source": [
    "plt.plot(a)"
   ]
  },
  {
   "cell_type": "code",
   "execution_count": 75,
   "id": "32a552a5",
   "metadata": {
    "ExecuteTime": {
     "end_time": "2021-09-01T04:40:10.540029Z",
     "start_time": "2021-09-01T04:40:10.525042Z"
    }
   },
   "outputs": [
    {
     "data": {
      "text/plain": [
       "(480000,)"
      ]
     },
     "execution_count": 75,
     "metadata": {},
     "output_type": "execute_result"
    }
   ],
   "source": [
    "sweep1.shape"
   ]
  },
  {
   "cell_type": "code",
   "execution_count": 79,
   "id": "e98f89e0",
   "metadata": {
    "ExecuteTime": {
     "end_time": "2021-09-01T04:44:09.576490Z",
     "start_time": "2021-09-01T04:44:09.564495Z"
    }
   },
   "outputs": [
    {
     "data": {
      "text/plain": [
       "1"
      ]
     },
     "execution_count": 79,
     "metadata": {},
     "output_type": "execute_result"
    }
   ],
   "source": [
    "s.shape[1]"
   ]
  },
  {
   "cell_type": "code",
   "execution_count": 81,
   "id": "e16e46c6",
   "metadata": {
    "ExecuteTime": {
     "end_time": "2021-09-01T04:47:20.449221Z",
     "start_time": "2021-09-01T04:47:20.444234Z"
    }
   },
   "outputs": [],
   "source": [
    "def envelope(data, fadein=0.05, fadeout=None, fs=48000):\n",
    "    if fadein is not None:\n",
    "        nin = int(2.0*fadein*fs)\n",
    "        a = (1.0-np.cos(np.linspace(0,np.pi,nin)))/2.0 \n",
    "        if data.ndim == 2:\n",
    "            for n in range(data.shape[1]):\n",
    "                data[:nin,n]  *= a\n",
    "        else:\n",
    "            data[:nin] *= a\n",
    "    if fadeout is not None:\n",
    "        nout = int(2.0*fadeout*fs)\n",
    "        a = (1.0+np.cos(np.linspace(0,np.pi,nout)))/2.0 \n",
    "        if data.ndim == 2:\n",
    "            for n in range(data.shape[1]):\n",
    "                data[-nout:,n]  *= a\n",
    "        else:\n",
    "            data[-nin:] *= a        \n",
    "    return data"
   ]
  },
  {
   "cell_type": "code",
   "execution_count": 83,
   "id": "43f740d6",
   "metadata": {
    "ExecuteTime": {
     "end_time": "2021-09-01T04:48:20.274340Z",
     "start_time": "2021-09-01T04:48:20.261376Z"
    }
   },
   "outputs": [],
   "source": [
    "s = np.ones((1000,1))"
   ]
  },
  {
   "cell_type": "code",
   "execution_count": 85,
   "id": "b62898e9",
   "metadata": {
    "ExecuteTime": {
     "end_time": "2021-09-01T04:48:43.305906Z",
     "start_time": "2021-09-01T04:48:43.291916Z"
    }
   },
   "outputs": [
    {
     "ename": "ValueError",
     "evalue": "operands could not be broadcast together with shapes (192,) (96,) (192,) ",
     "output_type": "error",
     "traceback": [
      "\u001b[1;31m---------------------------------------------------------------------------\u001b[0m",
      "\u001b[1;31mValueError\u001b[0m                                Traceback (most recent call last)",
      "\u001b[1;32m<ipython-input-85-4e38b09c7584>\u001b[0m in \u001b[0;36m<module>\u001b[1;34m\u001b[0m\n\u001b[1;32m----> 1\u001b[1;33m \u001b[0ms\u001b[0m \u001b[1;33m=\u001b[0m \u001b[0menvelope\u001b[0m\u001b[1;33m(\u001b[0m\u001b[0ms\u001b[0m\u001b[1;33m,\u001b[0m\u001b[0mfadein\u001b[0m\u001b[1;33m=\u001b[0m\u001b[1;36m0.002\u001b[0m\u001b[1;33m,\u001b[0m\u001b[0mfadeout\u001b[0m\u001b[1;33m=\u001b[0m\u001b[1;36m0.001\u001b[0m\u001b[1;33m)\u001b[0m\u001b[1;33m\u001b[0m\u001b[1;33m\u001b[0m\u001b[0m\n\u001b[0m\u001b[0;32m      2\u001b[0m \u001b[0mplt\u001b[0m\u001b[1;33m.\u001b[0m\u001b[0mplot\u001b[0m\u001b[1;33m(\u001b[0m\u001b[0ms\u001b[0m\u001b[1;33m)\u001b[0m\u001b[1;33m\u001b[0m\u001b[1;33m\u001b[0m\u001b[0m\n",
      "\u001b[1;32m<ipython-input-81-84b2abe923c6>\u001b[0m in \u001b[0;36menvelope\u001b[1;34m(data, fadein, fadeout, fs)\u001b[0m\n\u001b[0;32m     13\u001b[0m         \u001b[1;32mif\u001b[0m \u001b[0mdata\u001b[0m\u001b[1;33m.\u001b[0m\u001b[0mndim\u001b[0m \u001b[1;33m==\u001b[0m \u001b[1;36m2\u001b[0m\u001b[1;33m:\u001b[0m\u001b[1;33m\u001b[0m\u001b[1;33m\u001b[0m\u001b[0m\n\u001b[0;32m     14\u001b[0m             \u001b[1;32mfor\u001b[0m \u001b[0mn\u001b[0m \u001b[1;32min\u001b[0m \u001b[0mrange\u001b[0m\u001b[1;33m(\u001b[0m\u001b[0mdata\u001b[0m\u001b[1;33m.\u001b[0m\u001b[0mshape\u001b[0m\u001b[1;33m[\u001b[0m\u001b[1;36m1\u001b[0m\u001b[1;33m]\u001b[0m\u001b[1;33m)\u001b[0m\u001b[1;33m:\u001b[0m\u001b[1;33m\u001b[0m\u001b[1;33m\u001b[0m\u001b[0m\n\u001b[1;32m---> 15\u001b[1;33m                 \u001b[0mdata\u001b[0m\u001b[1;33m[\u001b[0m\u001b[1;33m-\u001b[0m\u001b[0mnin\u001b[0m\u001b[1;33m:\u001b[0m\u001b[1;33m,\u001b[0m\u001b[0mn\u001b[0m\u001b[1;33m]\u001b[0m  \u001b[1;33m*=\u001b[0m \u001b[0ma\u001b[0m\u001b[1;33m\u001b[0m\u001b[1;33m\u001b[0m\u001b[0m\n\u001b[0m\u001b[0;32m     16\u001b[0m         \u001b[1;32melse\u001b[0m\u001b[1;33m:\u001b[0m\u001b[1;33m\u001b[0m\u001b[1;33m\u001b[0m\u001b[0m\n\u001b[0;32m     17\u001b[0m             \u001b[0mdata\u001b[0m\u001b[1;33m[\u001b[0m\u001b[1;33m-\u001b[0m\u001b[0mnin\u001b[0m\u001b[1;33m:\u001b[0m\u001b[1;33m]\u001b[0m \u001b[1;33m*=\u001b[0m \u001b[0ma\u001b[0m\u001b[1;33m\u001b[0m\u001b[1;33m\u001b[0m\u001b[0m\n",
      "\u001b[1;31mValueError\u001b[0m: operands could not be broadcast together with shapes (192,) (96,) (192,) "
     ]
    }
   ],
   "source": [
    "s = envelope(s,fadein=0.002,fadeout=0.001)\n",
    "plt.plot(s)"
   ]
  },
  {
   "cell_type": "code",
   "execution_count": null,
   "id": "556305a1",
   "metadata": {},
   "outputs": [],
   "source": []
  }
 ],
 "metadata": {
  "kernelspec": {
   "display_name": "Python 3",
   "language": "python",
   "name": "python3"
  },
  "language_info": {
   "codemirror_mode": {
    "name": "ipython",
    "version": 3
   },
   "file_extension": ".py",
   "mimetype": "text/x-python",
   "name": "python",
   "nbconvert_exporter": "python",
   "pygments_lexer": "ipython3",
   "version": "3.8.8"
  },
  "toc": {
   "base_numbering": 1,
   "nav_menu": {},
   "number_sections": true,
   "sideBar": true,
   "skip_h1_title": false,
   "title_cell": "Table of Contents",
   "title_sidebar": "Contents",
   "toc_cell": false,
   "toc_position": {},
   "toc_section_display": true,
   "toc_window_display": false
  },
  "varInspector": {
   "cols": {
    "lenName": 16,
    "lenType": 16,
    "lenVar": 40
   },
   "kernels_config": {
    "python": {
     "delete_cmd_postfix": "",
     "delete_cmd_prefix": "del ",
     "library": "var_list.py",
     "varRefreshCmd": "print(var_dic_list())"
    },
    "r": {
     "delete_cmd_postfix": ") ",
     "delete_cmd_prefix": "rm(",
     "library": "var_list.r",
     "varRefreshCmd": "cat(var_dic_list()) "
    }
   },
   "position": {
    "height": "215.183px",
    "left": "762px",
    "right": "20px",
    "top": "-20px",
    "width": "548.867px"
   },
   "types_to_exclude": [
    "module",
    "function",
    "builtin_function_or_method",
    "instance",
    "_Feature"
   ],
   "window_display": true
  }
 },
 "nbformat": 4,
 "nbformat_minor": 5
}
