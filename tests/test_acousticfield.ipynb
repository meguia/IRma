{
 "cells": [
  {
   "cell_type": "code",
   "execution_count": 2,
   "id": "a54ce9c9",
   "metadata": {
    "ExecuteTime": {
     "end_time": "2021-08-31T23:20:23.197257Z",
     "start_time": "2021-08-31T23:20:22.417315Z"
    }
   },
   "outputs": [],
   "source": [
    "import numpy as np             \n",
    "import sounddevice as sd        #importamos sounddevice paquete para la reproduccion y grabacion de audio \n",
    "from scipy.io import wavfile    #modulo para lecto-escritura de archivos .wav\n",
    "import matplotlib.pyplot as plt"
   ]
  },
  {
   "cell_type": "code",
   "execution_count": 4,
   "id": "578a5e3e",
   "metadata": {
    "ExecuteTime": {
     "end_time": "2021-08-31T23:22:54.332512Z",
     "start_time": "2021-08-31T23:22:54.320514Z"
    }
   },
   "outputs": [],
   "source": [
    "from acousticfield.generate import sweep\n",
    "from acousticfield.process import play_rec, ir_extract"
   ]
  },
  {
   "cell_type": "code",
   "execution_count": 5,
   "id": "c08609a4",
   "metadata": {
    "ExecuteTime": {
     "end_time": "2021-08-31T23:23:07.829002Z",
     "start_time": "2021-08-31T23:23:07.817035Z"
    }
   },
   "outputs": [
    {
     "data": {
      "text/plain": [
       "   0 Microsoft Sound Mapper - Input, MME (2 in, 0 out)\n",
       ">  1 Microphone (Realtek(R) Audio), MME (2 in, 0 out)\n",
       "   2 Microphone (Logitech BRIO), MME (2 in, 0 out)\n",
       "   3 Microsoft Sound Mapper - Output, MME (0 in, 2 out)\n",
       "<  4 Speakers (Realtek(R) Audio), MME (0 in, 8 out)\n",
       "   5 S23C350 (NVIDIA High Definition, MME (0 in, 2 out)\n",
       "   6 Nx Headphones (Waves Virtual Au, MME (0 in, 8 out)\n",
       "   7 Realtek Digital Output (Realtek, MME (0 in, 2 out)\n",
       "   8 Primary Sound Capture Driver, Windows DirectSound (2 in, 0 out)\n",
       "   9 Microphone (Realtek(R) Audio), Windows DirectSound (2 in, 0 out)\n",
       "  10 Microphone (Logitech BRIO), Windows DirectSound (2 in, 0 out)\n",
       "  11 Primary Sound Driver, Windows DirectSound (0 in, 2 out)\n",
       "  12 Speakers (Realtek(R) Audio), Windows DirectSound (0 in, 8 out)\n",
       "  13 S23C350 (NVIDIA High Definition Audio), Windows DirectSound (0 in, 2 out)\n",
       "  14 Nx Headphones (Waves Virtual Audio Device), Windows DirectSound (0 in, 8 out)\n",
       "  15 Realtek Digital Output (Realtek(R) Audio), Windows DirectSound (0 in, 2 out)\n",
       "  16 ASIO4ALL v2, ASIO (2 in, 8 out)\n",
       "  17 Realtek ASIO, ASIO (2 in, 2 out)\n",
       "  18 S23C350 (NVIDIA High Definition Audio), Windows WASAPI (0 in, 2 out)\n",
       "  19 Nx Headphones (Waves Virtual Audio Device), Windows WASAPI (0 in, 8 out)\n",
       "  20 Speakers (Realtek(R) Audio), Windows WASAPI (0 in, 2 out)\n",
       "  21 Realtek Digital Output (Realtek(R) Audio), Windows WASAPI (0 in, 2 out)\n",
       "  22 Microphone (Logitech BRIO), Windows WASAPI (2 in, 0 out)\n",
       "  23 Microphone (Realtek(R) Audio), Windows WASAPI (2 in, 0 out)\n",
       "  24 Speakers (Realtek HD Audio output), Windows WDM-KS (0 in, 8 out)\n",
       "  25 Stereo Mix (Realtek HD Audio Stereo input), Windows WDM-KS (2 in, 0 out)\n",
       "  26 Line In (Realtek HD Audio Line input), Windows WDM-KS (2 in, 0 out)\n",
       "  27 Microphone (Realtek HD Audio Mic input), Windows WDM-KS (2 in, 0 out)\n",
       "  28 SPDIF Out (Realtek HDA SPDIF Out), Windows WDM-KS (0 in, 2 out)\n",
       "  29 Headphones (Waves Virtual Speaker), Windows WDM-KS (0 in, 8 out)\n",
       "  30 Output (NVIDIA High Definition Audio), Windows WDM-KS (0 in, 2 out)\n",
       "  31 Microphone (Logitech BRIO), Windows WDM-KS (2 in, 0 out)"
      ]
     },
     "execution_count": 5,
     "metadata": {},
     "output_type": "execute_result"
    }
   ],
   "source": [
    "sd.query_devices()"
   ]
  },
  {
   "cell_type": "code",
   "execution_count": 6,
   "id": "aa6cf569",
   "metadata": {
    "ExecuteTime": {
     "end_time": "2021-08-31T23:23:31.302580Z",
     "start_time": "2021-08-31T23:23:31.296594Z"
    }
   },
   "outputs": [],
   "source": [
    "sd.default.device = [2,4]"
   ]
  },
  {
   "cell_type": "code",
   "execution_count": 7,
   "id": "81ecc0b6",
   "metadata": {
    "ExecuteTime": {
     "end_time": "2021-08-31T23:23:53.722329Z",
     "start_time": "2021-08-31T23:23:53.328366Z"
    }
   },
   "outputs": [],
   "source": [
    "sweep1 = sweep(T=10.0,fs=48000,f1=30,f2=22000,filename='sweep10s_30_22k')"
   ]
  },
  {
   "cell_type": "code",
   "execution_count": 8,
   "id": "4ccd6589",
   "metadata": {
    "ExecuteTime": {
     "end_time": "2021-08-31T23:25:43.603702Z",
     "start_time": "2021-08-31T23:25:31.471842Z"
    }
   },
   "outputs": [
    {
     "name": "stdout",
     "output_type": "stream",
     "text": [
      "listo\n"
     ]
    }
   ],
   "source": [
    "rec_1 = play_rec('sweep10s_30_22k','rec_L1D1M1') "
   ]
  },
  {
   "cell_type": "code",
   "execution_count": 10,
   "id": "211e69b3",
   "metadata": {
    "ExecuteTime": {
     "end_time": "2021-08-31T23:26:35.360185Z",
     "start_time": "2021-08-31T23:26:35.304307Z"
    }
   },
   "outputs": [],
   "source": [
    "ri_1 = ir_extract(rec_1,'sweep10s_30_22k','ri_1')"
   ]
  },
  {
   "cell_type": "code",
   "execution_count": 11,
   "id": "46d22796",
   "metadata": {
    "ExecuteTime": {
     "end_time": "2021-08-31T23:27:07.165772Z",
     "start_time": "2021-08-31T23:27:06.976316Z"
    }
   },
   "outputs": [
    {
     "data": {
      "text/plain": [
       "[<matplotlib.lines.Line2D at 0x22ca3331a00>]"
      ]
     },
     "execution_count": 11,
     "metadata": {},
     "output_type": "execute_result"
    },
    {
     "data": {
      "image/png": "[encoded data removed]",
      "text/plain": [
       "<Figure size 1440x432 with 1 Axes>"
      ]
     },
     "metadata": {
      "needs_background": "light"
     },
     "output_type": "display_data"
    }
   ],
   "source": [
    "nsamples = len(ri_1)\n",
    "fs=48000            \n",
    "t = np.arange(nsamples)/fs*1000   \n",
    "plt.figure(figsize=(20,6))\n",
    "plt.plot(t,ri_1,alpha=1)   "
   ]
  },
  {
   "cell_type": "code",
   "execution_count": null,
   "id": "a2cebc53",
   "metadata": {},
   "outputs": [],
   "source": []
  }
 ],
 "metadata": {
  "kernelspec": {
   "display_name": "Python 3",
   "language": "python",
   "name": "python3"
  },
  "language_info": {
   "codemirror_mode": {
    "name": "ipython",
    "version": 3
   },
   "file_extension": ".py",
   "mimetype": "text/x-python",
   "name": "python",
   "nbconvert_exporter": "python",
   "pygments_lexer": "ipython3",
   "version": "3.8.8"
  },
  "toc": {
   "base_numbering": 1,
   "nav_menu": {},
   "number_sections": true,
   "sideBar": true,
   "skip_h1_title": false,
   "title_cell": "Table of Contents",
   "title_sidebar": "Contents",
   "toc_cell": false,
   "toc_position": {},
   "toc_section_display": true,
   "toc_window_display": false
  },
  "varInspector": {
   "cols": {
    "lenName": 16,
    "lenType": 16,
    "lenVar": 40
   },
   "kernels_config": {
    "python": {
     "delete_cmd_postfix": "",
     "delete_cmd_prefix": "del ",
     "library": "var_list.py",
     "varRefreshCmd": "print(var_dic_list())"
    },
    "r": {
     "delete_cmd_postfix": ") ",
     "delete_cmd_prefix": "rm(",
     "library": "var_list.r",
     "varRefreshCmd": "cat(var_dic_list()) "
    }
   },
   "types_to_exclude": [
    "module",
    "function",
    "builtin_function_or_method",
    "instance",
    "_Feature"
   ],
   "window_display": true
  }
 },
 "nbformat": 4,
 "nbformat_minor": 5
}
